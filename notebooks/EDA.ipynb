{
 "cells": [
  {
   "cell_type": "markdown",
   "metadata": {},
   "source": [
    "# Introducción \n",
    "Objetivo:\n",
    "Este proyecto tiene como objetivo practicar tareas comunes de la ingeniería de software y mejorar habilidades en el campo de los datos.\n",
    "\n",
    "Se realizará la creación y gestión de entornos virtuales de Python, desarrollo de una aplicación web y su publicación en la nube para que sea accesible al público.\n",
    "\n",
    "Se desarrollará por medio de un conjunto de datos de anuncios de coches, el enfoque no estará en los datos ni en su análisis sino es el uso de herramientas de desarrollo de aplicaciones web como Render, Git Hub  y streamlit y practicar el manejo de terminales como git bash.\n",
    "\n",
    "Etapas:\n",
    "\n",
    "1- Importar librerías y subir archivo csv, carga de datos,ver la información general, valores duplicados y ausentes(Data_Raw).\n",
    "\n",
    "2- Preparar o limpieza de datos de data_raw a data_clean y guardar el archivo limpio.\n",
    "\n",
    "\n",
    "5- Conclusión General."
   ]
  },
  {
   "cell_type": "markdown",
   "metadata": {},
   "source": [
    "##  Importar librerías, subir archivo csv  información general, ver valores duplicados y ausentes (Data_raw)."
   ]
  },
  {
   "cell_type": "code",
   "execution_count": 17,
   "metadata": {},
   "outputs": [],
   "source": [
    "# Importar librerías y Cargar datos \n",
    "import pandas as pd\n",
    "import numpy as np\n",
    "import matplotlib.pyplot as plt\n",
    "import seaborn as sns\n",
    "\n"
   ]
  },
  {
   "cell_type": "code",
   "execution_count": 18,
   "metadata": {},
   "outputs": [
    {
     "name": "stdout",
     "output_type": "stream",
     "text": [
      "   price  model_year           model  condition  cylinders fuel  odometer  \\\n",
      "0   9400      2011.0          bmw x5       good        6.0  gas  145000.0   \n",
      "1  25500         NaN      ford f-150       good        6.0  gas   88705.0   \n",
      "2   5500      2013.0  hyundai sonata   like new        4.0  gas  110000.0   \n",
      "3   1500      2003.0      ford f-150       fair        8.0  gas       NaN   \n",
      "4  14900      2017.0    chrysler 200  excellent        4.0  gas   80903.0   \n",
      "\n",
      "  transmission    type paint_color  is_4wd date_posted  days_listed  \n",
      "0    automatic     SUV         NaN     1.0  2018-06-23           19  \n",
      "1    automatic  pickup       white     1.0  2018-10-19           50  \n",
      "2    automatic   sedan         red     NaN  2019-02-07           79  \n",
      "3    automatic  pickup         NaN     NaN  2019-03-22            9  \n",
      "4    automatic   sedan       black     NaN  2019-04-02           28  \n"
     ]
    }
   ],
   "source": [
    "# Leer el archivo\n",
    "data_raw = pd.read_csv(\"C:/Users/Vane/Desktop/PracticasTripletenVane/06DataCars/Data/Vehicles_us.csv\")\n",
    "\n",
    "# Mostrar las primeras filas del DataFrame para verificar que se cargó correctamente\n",
    "print(data_raw.head())"
   ]
  },
  {
   "cell_type": "code",
   "execution_count": 19,
   "metadata": {},
   "outputs": [
    {
     "name": "stdout",
     "output_type": "stream",
     "text": [
      "<class 'pandas.core.frame.DataFrame'>\n",
      "RangeIndex: 51525 entries, 0 to 51524\n",
      "Data columns (total 13 columns):\n",
      " #   Column        Non-Null Count  Dtype  \n",
      "---  ------        --------------  -----  \n",
      " 0   price         51525 non-null  int64  \n",
      " 1   model_year    47906 non-null  float64\n",
      " 2   model         51525 non-null  object \n",
      " 3   condition     51525 non-null  object \n",
      " 4   cylinders     46265 non-null  float64\n",
      " 5   fuel          51525 non-null  object \n",
      " 6   odometer      43633 non-null  float64\n",
      " 7   transmission  51525 non-null  object \n",
      " 8   type          51525 non-null  object \n",
      " 9   paint_color   42258 non-null  object \n",
      " 10  is_4wd        25572 non-null  float64\n",
      " 11  date_posted   51525 non-null  object \n",
      " 12  days_listed   51525 non-null  int64  \n",
      "dtypes: float64(4), int64(2), object(7)\n",
      "memory usage: 5.1+ MB\n"
     ]
    }
   ],
   "source": [
    "# Obtener la información general \n",
    "data_raw.info()"
   ]
  },
  {
   "cell_type": "code",
   "execution_count": 20,
   "metadata": {},
   "outputs": [
    {
     "data": {
      "text/html": [
       "<div>\n",
       "<style scoped>\n",
       "    .dataframe tbody tr th:only-of-type {\n",
       "        vertical-align: middle;\n",
       "    }\n",
       "\n",
       "    .dataframe tbody tr th {\n",
       "        vertical-align: top;\n",
       "    }\n",
       "\n",
       "    .dataframe thead th {\n",
       "        text-align: right;\n",
       "    }\n",
       "</style>\n",
       "<table border=\"1\" class=\"dataframe\">\n",
       "  <thead>\n",
       "    <tr style=\"text-align: right;\">\n",
       "      <th></th>\n",
       "      <th>price</th>\n",
       "      <th>model_year</th>\n",
       "      <th>model</th>\n",
       "      <th>condition</th>\n",
       "      <th>cylinders</th>\n",
       "      <th>fuel</th>\n",
       "      <th>odometer</th>\n",
       "      <th>transmission</th>\n",
       "      <th>type</th>\n",
       "      <th>paint_color</th>\n",
       "      <th>is_4wd</th>\n",
       "      <th>date_posted</th>\n",
       "      <th>days_listed</th>\n",
       "    </tr>\n",
       "  </thead>\n",
       "  <tbody>\n",
       "    <tr>\n",
       "      <th>0</th>\n",
       "      <td>9400</td>\n",
       "      <td>2011.0</td>\n",
       "      <td>bmw x5</td>\n",
       "      <td>good</td>\n",
       "      <td>6.0</td>\n",
       "      <td>gas</td>\n",
       "      <td>145000.0</td>\n",
       "      <td>automatic</td>\n",
       "      <td>SUV</td>\n",
       "      <td>NaN</td>\n",
       "      <td>1.0</td>\n",
       "      <td>2018-06-23</td>\n",
       "      <td>19</td>\n",
       "    </tr>\n",
       "    <tr>\n",
       "      <th>1</th>\n",
       "      <td>25500</td>\n",
       "      <td>NaN</td>\n",
       "      <td>ford f-150</td>\n",
       "      <td>good</td>\n",
       "      <td>6.0</td>\n",
       "      <td>gas</td>\n",
       "      <td>88705.0</td>\n",
       "      <td>automatic</td>\n",
       "      <td>pickup</td>\n",
       "      <td>white</td>\n",
       "      <td>1.0</td>\n",
       "      <td>2018-10-19</td>\n",
       "      <td>50</td>\n",
       "    </tr>\n",
       "    <tr>\n",
       "      <th>2</th>\n",
       "      <td>5500</td>\n",
       "      <td>2013.0</td>\n",
       "      <td>hyundai sonata</td>\n",
       "      <td>like new</td>\n",
       "      <td>4.0</td>\n",
       "      <td>gas</td>\n",
       "      <td>110000.0</td>\n",
       "      <td>automatic</td>\n",
       "      <td>sedan</td>\n",
       "      <td>red</td>\n",
       "      <td>NaN</td>\n",
       "      <td>2019-02-07</td>\n",
       "      <td>79</td>\n",
       "    </tr>\n",
       "    <tr>\n",
       "      <th>3</th>\n",
       "      <td>1500</td>\n",
       "      <td>2003.0</td>\n",
       "      <td>ford f-150</td>\n",
       "      <td>fair</td>\n",
       "      <td>8.0</td>\n",
       "      <td>gas</td>\n",
       "      <td>NaN</td>\n",
       "      <td>automatic</td>\n",
       "      <td>pickup</td>\n",
       "      <td>NaN</td>\n",
       "      <td>NaN</td>\n",
       "      <td>2019-03-22</td>\n",
       "      <td>9</td>\n",
       "    </tr>\n",
       "    <tr>\n",
       "      <th>4</th>\n",
       "      <td>14900</td>\n",
       "      <td>2017.0</td>\n",
       "      <td>chrysler 200</td>\n",
       "      <td>excellent</td>\n",
       "      <td>4.0</td>\n",
       "      <td>gas</td>\n",
       "      <td>80903.0</td>\n",
       "      <td>automatic</td>\n",
       "      <td>sedan</td>\n",
       "      <td>black</td>\n",
       "      <td>NaN</td>\n",
       "      <td>2019-04-02</td>\n",
       "      <td>28</td>\n",
       "    </tr>\n",
       "  </tbody>\n",
       "</table>\n",
       "</div>"
      ],
      "text/plain": [
       "   price  model_year           model  condition  cylinders fuel  odometer  \\\n",
       "0   9400      2011.0          bmw x5       good        6.0  gas  145000.0   \n",
       "1  25500         NaN      ford f-150       good        6.0  gas   88705.0   \n",
       "2   5500      2013.0  hyundai sonata   like new        4.0  gas  110000.0   \n",
       "3   1500      2003.0      ford f-150       fair        8.0  gas       NaN   \n",
       "4  14900      2017.0    chrysler 200  excellent        4.0  gas   80903.0   \n",
       "\n",
       "  transmission    type paint_color  is_4wd date_posted  days_listed  \n",
       "0    automatic     SUV         NaN     1.0  2018-06-23           19  \n",
       "1    automatic  pickup       white     1.0  2018-10-19           50  \n",
       "2    automatic   sedan         red     NaN  2019-02-07           79  \n",
       "3    automatic  pickup         NaN     NaN  2019-03-22            9  \n",
       "4    automatic   sedan       black     NaN  2019-04-02           28  "
      ]
     },
     "execution_count": 20,
     "metadata": {},
     "output_type": "execute_result"
    }
   ],
   "source": [
    "# Obtener las 5 primeras filas de la tabla df.\n",
    "data_raw.head(5)"
   ]
  },
  {
   "cell_type": "code",
   "execution_count": 21,
   "metadata": {},
   "outputs": [
    {
     "name": "stdout",
     "output_type": "stream",
     "text": [
      "0\n"
     ]
    }
   ],
   "source": [
    "# Calcular el número de valores duplicados\n",
    "datos_duplicados = data_raw.duplicated().sum()\n",
    "print(datos_duplicados)"
   ]
  },
  {
   "cell_type": "code",
   "execution_count": 22,
   "metadata": {},
   "outputs": [
    {
     "name": "stdout",
     "output_type": "stream",
     "text": [
      "price            0.000000\n",
      "model_year       7.023775\n",
      "model            0.000000\n",
      "condition        0.000000\n",
      "cylinders       10.208637\n",
      "fuel             0.000000\n",
      "odometer        15.316836\n",
      "transmission     0.000000\n",
      "type             0.000000\n",
      "paint_color     17.985444\n",
      "is_4wd          50.369723\n",
      "date_posted      0.000000\n",
      "days_listed      0.000000\n",
      "dtype: float64\n"
     ]
    }
   ],
   "source": [
    "# Calcular el número de valores ausentes o datos faltantes\n",
    "data_raw.isna().sum()\n",
    "# Estimación del porcentaje de valores en las columnas\n",
    "datos_faltantes = data_raw.isnull().sum() / len(data_raw) * 100 \n",
    "print(datos_faltantes)"
   ]
  },
  {
   "cell_type": "markdown",
   "metadata": {},
   "source": [
    "**Observaciones:**\n",
    "Se realizan las siguientes adecuaciones:  \n",
    "- Quitar columnas que no se ocupan: 'date_posted'  , 'days_listed'.\n",
    "- Reemplazar valores no finitos (NA o inf) con 0.\n",
    "- Columna Paint_Color cambiar valores vacíos a color_unknown.\n",
    "- Reemplazar valores 0 por NaN en la columna 'odometer'\n",
    "- Reemplazar valores 0 por NaN en la columna 'cylinders'\n",
    "- Convertir el tipo de dato de la columna 'model_year' de float a int.\n",
    "- Crear una nueva columna llamada ''manufacturer' o fabricante ."
   ]
  },
  {
   "cell_type": "markdown",
   "metadata": {},
   "source": [
    "## 2- Preparar o limpieza de datos de data_raw a data_clean ."
   ]
  },
  {
   "cell_type": "markdown",
   "metadata": {},
   "source": []
  },
  {
   "cell_type": "code",
   "execution_count": 23,
   "metadata": {},
   "outputs": [
    {
     "name": "stdout",
     "output_type": "stream",
     "text": [
      "   price  model_year           model  condition  cylinders fuel  odometer  \\\n",
      "0   9400      2011.0          bmw x5       good        6.0  gas  145000.0   \n",
      "1  25500         NaN      ford f-150       good        6.0  gas   88705.0   \n",
      "2   5500      2013.0  hyundai sonata   like new        4.0  gas  110000.0   \n",
      "3   1500      2003.0      ford f-150       fair        8.0  gas       NaN   \n",
      "4  14900      2017.0    chrysler 200  excellent        4.0  gas   80903.0   \n",
      "\n",
      "  transmission    type paint_color  is_4wd  \n",
      "0    automatic     SUV         NaN     1.0  \n",
      "1    automatic  pickup       white     1.0  \n",
      "2    automatic   sedan         red     NaN  \n",
      "3    automatic  pickup         NaN     NaN  \n",
      "4    automatic   sedan       black     NaN  \n"
     ]
    }
   ],
   "source": [
    "# Eliminar las columnas 'date_posted' y 'days_listed' del DataFrame\n",
    "data_raw = data_raw.drop(['date_posted', 'days_listed'], axis=1)\n",
    "\n",
    "# Verificar el resultado\n",
    "print(data_raw.head())"
   ]
  },
  {
   "cell_type": "code",
   "execution_count": 24,
   "metadata": {},
   "outputs": [
    {
     "name": "stdout",
     "output_type": "stream",
     "text": [
      "price             int64\n",
      "model_year        int32\n",
      "model            object\n",
      "condition        object\n",
      "cylinders       float64\n",
      "fuel             object\n",
      "odometer        float64\n",
      "transmission     object\n",
      "type             object\n",
      "paint_color      object\n",
      "is_4wd          float64\n",
      "dtype: object\n"
     ]
    }
   ],
   "source": [
    "# Reemplazar valores no finitos (NA o inf) con 0\n",
    "data_raw['model_year'] = data_raw['model_year'].fillna(0)  # Si hay NaN, los reemplaza por 0\n",
    "data_raw['model_year'] = data_raw['model_year'].replace([float('inf'), -float('inf')], 0)  # Reemplazar infinito\n",
    "\n",
    "# Convertir la columna 'model_year' de float a int\n",
    "data_raw['model_year'] = data_raw['model_year'].astype(int)\n",
    "\n",
    "# Verificar el tipo de dato después de la conversión\n",
    "print(data_raw.dtypes)"
   ]
  },
  {
   "cell_type": "code",
   "execution_count": 25,
   "metadata": {},
   "outputs": [
    {
     "name": "stdout",
     "output_type": "stream",
     "text": [
      "['color_unknown' 'white' 'red' 'black' 'blue' 'grey' 'silver' 'custom'\n",
      " 'orange' 'yellow' 'brown' 'green' 'purple']\n"
     ]
    }
   ],
   "source": [
    "# Columna paint_color cambiar valores vacíos a color_unknown.\n",
    "data_raw['paint_color'] = data_raw['paint_color'].fillna('color_unknown')\n",
    "# Verificar cambios\n",
    "print(data_raw['paint_color'].unique())\n"
   ]
  },
  {
   "cell_type": "code",
   "execution_count": 26,
   "metadata": {},
   "outputs": [
    {
     "name": "stdout",
     "output_type": "stream",
     "text": [
      "[1.0 '0']\n"
     ]
    }
   ],
   "source": [
    "# Columna is_4wd valores vacíos cambiar a 0\n",
    "data_raw['is_4wd'] = data_raw['is_4wd'].fillna('0')\n",
    "# Verificar cambios\n",
    "print(data_raw['is_4wd'].unique())"
   ]
  },
  {
   "cell_type": "code",
   "execution_count": 28,
   "metadata": {},
   "outputs": [
    {
     "name": "stdout",
     "output_type": "stream",
     "text": [
      "8077\n"
     ]
    }
   ],
   "source": [
    "# Reemplazar valores 0 por NaN en la columna 'odometer'\n",
    "data_raw['odometer'] = data_raw['odometer'].replace(0, np.nan)\n",
    "# Verificar los cambios \n",
    "print(data_raw['odometer'].isna().sum())\n"
   ]
  },
  {
   "cell_type": "code",
   "execution_count": null,
   "metadata": {},
   "outputs": [
    {
     "name": "stdout",
     "output_type": "stream",
     "text": [
      "5260\n"
     ]
    }
   ],
   "source": [
    "# Reemplazar valores 0 por NaN en la columna 'cylinders'\n",
    "data_raw['cylinders'] = data_raw['cylinders'].replace(0, np.nan)\n",
    "# Verificar los cambios \n",
    "print(data_raw['cylinders'].isna().sum())"
   ]
  },
  {
   "cell_type": "code",
   "execution_count": 29,
   "metadata": {},
   "outputs": [
    {
     "name": "stdout",
     "output_type": "stream",
     "text": [
      "                model manufacturer\n",
      "0              bmw x5          bmw\n",
      "1          ford f-150         ford\n",
      "2      hyundai sonata      hyundai\n",
      "3          ford f-150         ford\n",
      "4        chrysler 200     chrysler\n",
      "...               ...          ...\n",
      "51520   nissan maxima       nissan\n",
      "51521     honda civic        honda\n",
      "51522  hyundai sonata      hyundai\n",
      "51523  toyota corolla       toyota\n",
      "51524   nissan altima       nissan\n",
      "\n",
      "[51525 rows x 2 columns]\n"
     ]
    }
   ],
   "source": [
    "# Hacer una columna con el fabricante o manufacturer\n",
    "data_raw['manufacturer'] = data_raw['model'].apply(lambda x: x.split()[0])\n",
    "\n",
    "# Revisar el resultado\n",
    "print(data_raw[['model', 'manufacturer']])"
   ]
  },
  {
   "cell_type": "markdown",
   "metadata": {},
   "source": [
    "## Guardar el archivo limpio (data_raw a data_clean)"
   ]
  },
  {
   "cell_type": "code",
   "execution_count": 30,
   "metadata": {},
   "outputs": [
    {
     "name": "stdout",
     "output_type": "stream",
     "text": [
      "   price  model_year           model  condition  cylinders fuel  odometer  \\\n",
      "0   9400        2011          bmw x5       good        6.0  gas  145000.0   \n",
      "1  25500           0      ford f-150       good        6.0  gas   88705.0   \n",
      "2   5500        2013  hyundai sonata   like new        4.0  gas  110000.0   \n",
      "3   1500        2003      ford f-150       fair        8.0  gas       NaN   \n",
      "4  14900        2017    chrysler 200  excellent        4.0  gas   80903.0   \n",
      "\n",
      "  transmission    type    paint_color is_4wd manufacturer  \n",
      "0    automatic     SUV  color_unknown    1.0          bmw  \n",
      "1    automatic  pickup          white    1.0         ford  \n",
      "2    automatic   sedan            red      0      hyundai  \n",
      "3    automatic  pickup  color_unknown      0         ford  \n",
      "4    automatic   sedan          black      0     chrysler  \n",
      "¡Copia del archivo limpio guardada como 'data_clean.csv' en la carpeta 'Data'!\n"
     ]
    }
   ],
   "source": [
    "#Guardar cambios efectuados de la limpieza del archivo\n",
    "data_clean = data_raw\n",
    "print(data_clean.head())\n",
    "# Crear una copia del csv limpio\n",
    "data_clean.to_csv(\"C:/Users/Vane/Desktop/PracticasTripletenVane/06DataCars/Data/data_clean.csv\", index=False)\n",
    "\n",
    "print(\"¡Copia del archivo limpio guardada como 'data_clean.csv' en la carpeta 'Data'!\")"
   ]
  },
  {
   "cell_type": "code",
   "execution_count": 31,
   "metadata": {},
   "outputs": [
    {
     "name": "stdout",
     "output_type": "stream",
     "text": [
      "Index(['price', 'model_year', 'model', 'condition', 'cylinders', 'fuel',\n",
      "       'odometer', 'transmission', 'type', 'paint_color', 'is_4wd',\n",
      "       'manufacturer'],\n",
      "      dtype='object')\n"
     ]
    }
   ],
   "source": [
    "# Cargar archivo csv limpio \n",
    "data_clean =pd.read_csv(\"C:/Users/Vane/Desktop/PracticasTripletenVane/06DataCars/Data/data_clean.csv\")\n",
    "print(data_clean.columns)"
   ]
  },
  {
   "cell_type": "markdown",
   "metadata": {},
   "source": [
    "## Conclusiones\n",
    "\n",
    "- Se efectuó la limpieza del archivo, para porsteriormente en el archivo app.py con el data_clean listo realizar los gráficos así como botones desplegables y mostrarlos en la aplicación."
   ]
  }
 ],
 "metadata": {
  "kernelspec": {
   "display_name": "base",
   "language": "python",
   "name": "python3"
  },
  "language_info": {
   "codemirror_mode": {
    "name": "ipython",
    "version": 3
   },
   "file_extension": ".py",
   "mimetype": "text/x-python",
   "name": "python",
   "nbconvert_exporter": "python",
   "pygments_lexer": "ipython3",
   "version": "3.12.7"
  }
 },
 "nbformat": 4,
 "nbformat_minor": 2
}
